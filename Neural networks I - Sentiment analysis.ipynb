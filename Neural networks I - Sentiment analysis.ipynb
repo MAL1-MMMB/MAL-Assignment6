{
 "cells": [
  {
   "cell_type": "markdown",
   "id": "5bc9be56",
   "metadata": {},
   "source": [
    "## Sentiment Analysis"
   ]
  },
  {
   "cell_type": "markdown",
   "id": "818b3b52",
   "metadata": {},
   "source": [
    "In this exercise we use the IMDb-dataset, which we will use to perform a sentiment analysis. The code below assumes that the data is placed in the same folder as this notebook. We see that the reviews are loaded as a pandas dataframe, and print the beginning of the first few reviews."
   ]
  },
  {
   "cell_type": "code",
   "execution_count": 1,
   "id": "67da3bc0",
   "metadata": {},
   "outputs": [
    {
     "name": "stdout",
     "output_type": "stream",
     "text": [
      "<class 'pandas.core.frame.DataFrame'>\n",
      "                                                   0\n",
      "0  bromwell high is a cartoon comedy . it ran at ...\n",
      "1  story of a man who has unnatural feelings for ...\n",
      "2  homelessness  or houselessness as george carli...\n",
      "3  airport    starts as a brand new luxury    pla...\n",
      "4  brilliant over  acting by lesley ann warren . ...\n"
     ]
    }
   ],
   "source": [
    "import numpy as np\n",
    "import pandas as pd\n",
    "\n",
    "reviews = pd.read_csv('reviews.txt', header=None)\n",
    "labels = pd.read_csv('labels.txt', header=None)\n",
    "Y = (labels=='positive').astype(np.int_)\n",
    "\n",
    "print(type(reviews))\n",
    "print(reviews.head())"
   ]
  },
  {
   "cell_type": "markdown",
   "id": "4982b946",
   "metadata": {},
   "source": [
    "**(a)** Split the reviews and labels in test, train and validation sets. The train and validation sets will be used to train your model and tune hyperparameters, the test set will be saved for testing. Use the `CountVectorizer` from `sklearn.feature_extraction.text` to create a Bag-of-Words representation of the reviews. Only use the 10,000 most frequent words (use the `max_features`-parameter of `CountVectorizer`)."
   ]
  },
  {
   "cell_type": "code",
   "execution_count": 2,
   "id": "1ac0196d",
   "metadata": {},
   "outputs": [
    {
     "name": "stdout",
     "output_type": "stream",
     "text": [
      "Shape of the matrix:  (25000, 10000)\n"
     ]
    }
   ],
   "source": [
    "from sklearn.feature_extraction.text import CountVectorizer\n",
    "\n",
    "# * Build a Bag of Words representation of the reviews. (Only containing the 10.000 most frequent words)\n",
    "vectorizer = CountVectorizer(max_features=10000)\n",
    "\n",
    "# - Transform the reviews into a Bag of Words representation\n",
    "X = vectorizer.fit_transform(reviews[0])\n",
    "\n",
    "# * Show the shape of the matrix\n",
    "print(\"Shape of the matrix: \", X.shape)\n",
    "\n",
    "# * Split the data into a training and a test set (80% training, 20% test)\n",
    "from sklearn.model_selection import train_test_split\n",
    "\n",
    "# - Split the data into a training and a test set.\n",
    "X_train, X_test, Y_train, Y_test = train_test_split(X, Y, test_size=0.2, random_state=42)\n",
    "\n",
    "# * Split the training data into a training and a validation set (80% training, 20% validation)\n",
    "X_train, X_val, Y_train, Y_val = train_test_split(X_train, Y_train, test_size=0.2, random_state=42)"
   ]
  },
  {
   "cell_type": "markdown",
   "id": "ebf07ee9",
   "metadata": {},
   "source": [
    "**(b)** Explore the representation of the reviews. How is a single word represented? How about a whole review?"
   ]
  },
  {
   "cell_type": "code",
   "execution_count": 3,
   "id": "eada4324",
   "metadata": {},
   "outputs": [
    {
     "name": "stdout",
     "output_type": "stream",
     "text": [
      "Word 'the' is represented as:  8945\n",
      "\n",
      "Review 0 in Bag of Words:    (0, 4193)\t5\n",
      "  (0, 4715)\t4\n",
      "  (0, 1334)\t1\n",
      "  (0, 1735)\t1\n",
      "  (0, 4728)\t2\n",
      "  (0, 7082)\t1\n",
      "  (0, 549)\t2\n",
      "  (0, 8945)\t9\n",
      "  (0, 7663)\t1\n",
      "  (0, 9053)\t1\n",
      "  (0, 501)\t2\n",
      "  (0, 8254)\t1\n",
      "  (0, 6283)\t1\n",
      "  (0, 6897)\t1\n",
      "  (0, 12)\t1\n",
      "  (0, 7737)\t2\n",
      "  (0, 5182)\t1\n",
      "  (0, 8651)\t1\n",
      "  (0, 8864)\t4\n",
      "  (0, 5913)\t2\n",
      "  (0, 9955)\t1\n",
      "  (0, 4473)\t2\n",
      "  (0, 8866)\t1\n",
      "  (0, 6886)\t1\n",
      "  (0, 5099)\t1\n",
      "  :\t:\n",
      "  (0, 9772)\t1\n",
      "  (0, 8593)\t2\n",
      "  (0, 7330)\t1\n",
      "  (0, 9231)\t1\n",
      "  (0, 1180)\t1\n",
      "  (0, 2660)\t1\n",
      "  (0, 4443)\t1\n",
      "  (0, 1597)\t1\n",
      "  (0, 5222)\t1\n",
      "  (0, 4591)\t1\n",
      "  (0, 4171)\t1\n",
      "  (0, 7630)\t1\n",
      "  (0, 6219)\t1\n",
      "  (0, 9974)\t1\n",
      "  (0, 9737)\t1\n",
      "  (0, 3147)\t1\n",
      "  (0, 5465)\t1\n",
      "  (0, 139)\t1\n",
      "  (0, 177)\t1\n",
      "  (0, 8981)\t1\n",
      "  (0, 3277)\t1\n",
      "  (0, 3353)\t1\n",
      "  (0, 9759)\t1\n",
      "  (0, 6610)\t1\n",
      "  (0, 4721)\t1\n",
      "\n",
      "Word 'the' appears in the first review:  9\n",
      "\n",
      "Word with index 4715:  is\n"
     ]
    }
   ],
   "source": [
    "\n",
    "# * How is a word represented in the Bag of Words? (Print the index of the word 'the')\n",
    "print(\"Word 'the' is represented as: \", vectorizer.vocabulary_.get('the'))\n",
    "\n",
    "# - New line for better readability\n",
    "print()\n",
    "\n",
    "# * How does a review look like in the Bag of Words? (Print the first review in the Bag of Words representation)\n",
    "print(\"Review 0 in Bag of Words: \", X[0])\n",
    "\n",
    "# - New line for better readability\n",
    "print()\n",
    "\n",
    "# * How many times does the word 'the' appear in the first review?\n",
    "print(\"Word 'the' appears in the first review: \", X[0, vectorizer.vocabulary_.get('the')])\n",
    "\n",
    "# - New line for better readability\n",
    "print()\n",
    "\n",
    "# * What is the word with index 4193 in the Bag of Words representation?\n",
    "print(\"Word with index 4715: \", list(vectorizer.vocabulary_.keys())[list(vectorizer.vocabulary_.values()).index(4715)])"
   ]
  },
  {
   "cell_type": "markdown",
   "id": "c2638fce",
   "metadata": {},
   "source": [
    "**(c)** Train a neural network with a single hidden layer on the dataset, tuning the relevant hyperparameters to optimize accuracy. "
   ]
  },
  {
   "cell_type": "code",
   "execution_count": 14,
   "id": "615bc3a7",
   "metadata": {},
   "outputs": [
    {
     "name": "stdout",
     "output_type": "stream",
     "text": [
      "TensorFlow version: 2.17.0-dev20240429\n"
     ]
    }
   ],
   "source": [
    "\n",
    "# - Train a neural network with a single hidden layer on the dataset. (Using TensorFlow)\n",
    "import tensorflow as tf\n",
    "print(\"TensorFlow version:\", tf.__version__)\n",
    "\n",
    "\n",
    "# * Define the model\n",
    "model = tf.keras.models.Sequential([\n",
    "    tf.keras.layers.Input(shape=(X_train.shape[1],)), # - Input layer with the number of features\n",
    "    tf.keras.layers.Dense(100, activation='sigmoid'), # - #1 Hidden layer with 100 neurons\n",
    "    tf.keras.layers.Dense(1, activation='sigmoid') # - Output layer with 1 neuron\n",
    "])\n",
    "\n",
    "# * Compile the model\n",
    "model.compile(optimizer='adam', loss='binary_crossentropy', metrics=['accuracy'])\n",
    "\n",
    "# * Train the model\n",
    "history = model.fit(X_train.toarray(), Y_train, validation_data=(X_val.toarray(), Y_val), epochs=10, batch_size=32, verbose=0,)\n",
    "\n",
    "# * Evaluate the model\n",
    "loss, accuracy = model.evaluate(X_test.toarray(), Y_test)\n",
    "print(\"Test loss: \", loss)\n",
    "print(\"Test accuracy: \", accuracy)\n",
    "\n",
    "# * Plot the training and validation loss\n",
    "import matplotlib.pyplot as plt\n",
    "\n",
    "plt.plot(history.history['loss'], label='Training loss')\n",
    "plt.plot(history.history['val_loss'], label='Validation loss')\n",
    "plt.legend()\n",
    "plt.show()\n",
    "\n",
    "# * Plot the training and validation accuracy\n",
    "plt.plot(history.history['accuracy'], label='Training accuracy')\n",
    "plt.plot(history.history['val_accuracy'], label='Validation accuracy')\n",
    "plt.legend()\n",
    "plt.show()\n"
   ]
  },
  {
   "cell_type": "markdown",
   "id": "1fd327a6",
   "metadata": {},
   "source": [
    "**(d)** Test your sentiment-classifier on the test set."
   ]
  },
  {
   "cell_type": "code",
   "execution_count": null,
   "id": "39a97e01",
   "metadata": {},
   "outputs": [],
   "source": []
  },
  {
   "cell_type": "markdown",
   "id": "fd44ee62",
   "metadata": {},
   "source": [
    "**(e)** Use the classifier to classify a few sentences you write yourselves. "
   ]
  },
  {
   "cell_type": "code",
   "execution_count": null,
   "id": "a1ef2970",
   "metadata": {},
   "outputs": [],
   "source": []
  }
 ],
 "metadata": {
  "kernelspec": {
   "display_name": "Python 3 (ipykernel)",
   "language": "python",
   "name": "python3"
  },
  "language_info": {
   "codemirror_mode": {
    "name": "ipython",
    "version": 3
   },
   "file_extension": ".py",
   "mimetype": "text/x-python",
   "name": "python",
   "nbconvert_exporter": "python",
   "pygments_lexer": "ipython3",
   "version": "3.12.2"
  }
 },
 "nbformat": 4,
 "nbformat_minor": 5
}
